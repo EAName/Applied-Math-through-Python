{
 "cells": [
  {
   "cell_type": "markdown",
   "metadata": {},
   "source": [
    "# MSDS 400 Solving LP Models Using Pulp or SciPy"
   ]
  },
  {
   "cell_type": "markdown",
   "metadata": {},
   "source": [
    "**Maximize** \n",
    "z = 10x1 + 15x2 + 10x3 + 5x4\n",
    "\n",
    "**Subject to:**<br>\n",
    "x1 + x2 + x3 + x4 ≤ 300<br>\n",
    "x1 + 2x2 + 3x3 + x4 ≤ 360<br>\n",
    "x1 ≥ 0, x2 ≥ 0, x3 ≥ 0, x4 ≥ 0\n"
   ]
  },
  {
   "cell_type": "markdown",
   "metadata": {},
   "source": [
    "**Solution:**  Maximum is 3300 when x1 = 240, x2 = 60, x3 = 0, x4 = 0"
   ]
  },
  {
   "cell_type": "markdown",
   "metadata": {},
   "source": [
    "#### Python Code:\n",
    "** Note: ** *The optimize.linprog function minimizes the target function as a default. If the problem is a maximization one, convert it to minimize −f(x)*\n"
   ]
  },
  {
   "cell_type": "code",
   "execution_count": 1,
   "metadata": {},
   "outputs": [
    {
     "name": "stdout",
     "output_type": "stream",
     "text": [
      "Scipy Optimize Optimal value: -9.000000001915947 \n",
      " x1, x2, x3, : [1.50000000e+00 1.34172866e-10 2.07669770e-09]\n",
      "\n",
      "\n"
     ]
    }
   ],
   "source": [
    "# Solution using linprog from Scipy.optimize\n",
    "# https://docs.scipy.org/doc/scipy-0.15.1/reference/generated/scipy.optimize.linprog.html\n",
    "\n",
    "from scipy.optimize import linprog\n",
    "\n",
    "# coefficients of objective function\n",
    "z = [-6, -5, -3] \n",
    "\n",
    "# coefficients of the left-hand side of the inequalities\n",
    "lhs = [[3, 2, 2], [4, 5, 5], [1, 3, 1]]\n",
    "\n",
    "# coefficients of the right-hand side of the inequalities\n",
    "rhs = [12, 6, 8]\n",
    "\n",
    "# set the bounds for the variables\n",
    "x1_bounds = (0, None)\n",
    "x2_bounds = (0, None)\n",
    "x3_bounds = (0, None)\n",
    "#x4_bounds = (0, None)\n",
    "\n",
    "method='simplex'\n",
    "\n",
    "res = linprog(c=z, A_ub=lhs, b_ub=rhs,  bounds=(x1_bounds,x2_bounds, x3_bounds))\n",
    "\n",
    "# See scipy documentation for additional details about scipy.optimize.OptimizeResult \n",
    "# https://docs.scipy.org/doc/scipy-0.15.1/reference/generated/scipy.optimize.linprog.html\n",
    "\n",
    "# Print optimal values of x1, x2, x3 and x4 \n",
    "print('Scipy Optimize Optimal value:', res.fun, '\\n x1, x2, x3, :', res.x)\n",
    "print('\\n')\n",
    "\n",
    "#use of dual depends on direction of inequality\n",
    "#SciPy's constraints requires min. problem to have all inequalities pointing same direction"
   ]
  },
  {
   "cell_type": "markdown",
   "metadata": {},
   "source": [
    "### Alternative Solution using Pulp Python package\n",
    "#### Note: The use of pulp to solve maximization/minimization problems is optional.\n",
    "#### ** Instructions for installing pulp package **\n",
    "##### http://pythonhosted.org/PuLP/main/installing_pulp_at_home.html\n",
    "\n"
   ]
  },
  {
   "cell_type": "code",
   "execution_count": 2,
   "metadata": {},
   "outputs": [],
   "source": [
    "import pulp as p "
   ]
  },
  {
   "cell_type": "code",
   "execution_count": null,
   "metadata": {},
   "outputs": [],
   "source": [
    "Minimize g = 12y1 + 6y2 + 8y3 \n",
    "subject to 3y1 +4y2 +y3 \u000e6\n",
    "2y1 +5y2 +3y3 \u000e5\n",
    "2y1 +5y2 +y3 \u000e3"
   ]
  },
  {
   "cell_type": "code",
   "execution_count": 3,
   "metadata": {},
   "outputs": [
    {
     "name": "stdout",
     "output_type": "stream",
     "text": [
      "Pulp Solution for x1, x2, and x3\n",
      "0.0\n",
      "1.5\n",
      "0.0\n"
     ]
    }
   ],
   "source": [
    "from pulp import LpVariable, LpProblem, LpMaximize, LpStatus, value, LpMinimize \n",
    "\n",
    "# declare your variables\n",
    "x1 = LpVariable(\"x1\", 0, None) # x1>=0\n",
    "x2 = LpVariable(\"x2\", 0, None) # x2>=0\n",
    "x3 = LpVariable(\"x3\", 0, None) # x3>=0\n",
    "\n",
    "\n",
    "\n",
    "# defines the problem\n",
    "prob = LpProblem(\"problem\", LpMinimize)\n",
    "\n",
    "# defines the constraints\n",
    "prob += 3*x1 + 4*x2 + x3 >= 6\n",
    "prob += 2*x1 + 5*x2 + 3*x3 >= 5\n",
    "prob += 2*x1 + 5*x2 + x3 >= 3\n",
    "\n",
    "# defines the objective function to minimize\n",
    "prob += 12*x1 + 6*x2 + 8*x3\n",
    "\n",
    "# solve the problem\n",
    "status = prob.solve()\n",
    "LpStatus[status]\n",
    "\n",
    "# print the results\n",
    "print(\"Pulp Solution for x1, x2, and x3\")\n",
    "print(value(x1))\n",
    "print(value(x2))\n",
    "print(value(x3))\n"
   ]
  },
  {
   "cell_type": "markdown",
   "metadata": {},
   "source": [
    "#### Example 2: \n",
    "**Minimize** \n",
    "w = 22y1 + 44y2 + 33y3\n",
    "\n",
    "**Subject to:**<br>\n",
    "y1 + 2y2 + y3 ≥ 3<br> \n",
    "y1 + y3 ≥ 3<br> \n",
    "3y1 + 2y2 + 2y3 ≥ 8<br>\n",
    "y1 ≥ 0, y2 ≥ 0, y3 ≥ 0"
   ]
  },
  {
   "cell_type": "code",
   "execution_count": 4,
   "metadata": {},
   "outputs": [
    {
     "name": "stdout",
     "output_type": "stream",
     "text": [
      "\n",
      "\n",
      "Scipy Optimize Optimal value: 66.00000000017214 \n",
      " y1, y2, y3: [3.00000000e+00 7.54142009e-12 5.00562567e-12]\n",
      "\n",
      "\n"
     ]
    }
   ],
   "source": [
    "from scipy.optimize import linprog\n",
    "\n",
    "w = [22, 44, 33] \n",
    "lhs = [[-1, -2, -1], [-1, 0,-1],[-3, -2, -2]]\n",
    "rhs = [-3, -3, -8]\n",
    "y1_bounds = (0, None)\n",
    "y2_bounds = (0, None)\n",
    "y3_bounds = (0, None)\n",
    "\n",
    "res = linprog(c=w, A_ub=lhs, b_ub=rhs, \n",
    "bounds=(y1_bounds,y2_bounds, y3_bounds))\n",
    "print('\\n')\n",
    "print('Scipy Optimize Optimal value:', res.fun, '\\n y1, y2, y3:', res.x)\n",
    "print('\\n')"
   ]
  },
  {
   "cell_type": "markdown",
   "metadata": {},
   "source": [
    "### Alternative Solution using Pulp Python package\n",
    "#### Note: The use of pulp to solve maximization/minimization problems is optional."
   ]
  },
  {
   "cell_type": "code",
   "execution_count": 5,
   "metadata": {},
   "outputs": [
    {
     "name": "stdout",
     "output_type": "stream",
     "text": [
      "Pulp Solutions for y1, y2, and y3\n",
      "3.0\n",
      "0.0\n",
      "0.0\n"
     ]
    }
   ],
   "source": [
    "from pulp import LpVariable, LpProblem, LpMaximize, LpStatus, value, LpMinimize\n",
    "\n",
    "# declare your variables\n",
    "y1 = LpVariable(\"y1\", 0, None) # y1>=0\n",
    "y2 = LpVariable(\"y2\", 0, None) # y2>=0\n",
    "y3 = LpVariable(\"y3\", 0, None) # y3>=0\n",
    "# defines the problem\n",
    "prob = LpProblem(\"problem\", LpMinimize)\n",
    "# defines the constraints\n",
    "prob += y1 + 2*y2 + y3 >= 3\n",
    "prob += y1 + y3 >= 3\n",
    "prob += 3*y1 + 2*y2 + 2*y3 >= 8\n",
    "\n",
    "# defines the objective function to maximize\n",
    "prob += 22*y1 + 44*y2+ 33*y3\n",
    "# solve the problem\n",
    "status = prob.solve()\n",
    "LpStatus[status]\n",
    "# print the results\n",
    "print(\"Pulp Solutions for y1, y2, and y3\")\n",
    "print(value(y1))\n",
    "print(value(y2))\n",
    "print(value(y3))\n"
   ]
  },
  {
   "cell_type": "code",
   "execution_count": 17,
   "metadata": {},
   "outputs": [
    {
     "name": "stdout",
     "output_type": "stream",
     "text": [
      "Pulp Solution for x1, x2\n",
      "0.0\n",
      "6.0\n"
     ]
    }
   ],
   "source": [
    "from pulp import LpVariable, LpProblem, LpMaximize, LpStatus, value, LpMinimize \n",
    "\n",
    "# declare your variables\n",
    "x1 = LpVariable(\"x1\", 0, 5) # x1>=0 #change parameters to the constraints \n",
    "x2 = LpVariable(\"x2\", 6, 10) # x2>=0\n",
    "#x3 = LpVariable(\"x3\", 0, None) # x3>=0\n",
    "#x4 = LpVariable(\"x4\", 0, None) # x4>=0\n",
    "\n",
    "\n",
    "# defines the problem\n",
    "prob = LpProblem(\"problem\", LpMinimize)\n",
    "\n",
    "# defines the constraints\n",
    "prob += x1 + x2  <= 23000000\n",
    "#prob += x1 <= 5\n",
    "#prob += x2 >= 6\n",
    "#prob += x2 <= 10\n",
    "#prob += x1 >= 0\n",
    "#prob += 250*x1 + 640*x2 <=18850\n",
    "\n",
    "# defines the objective function to maximize\n",
    "prob += 475*x1 + 335*x2 \n",
    "\n",
    "# solve the problem\n",
    "status = prob.solve()\n",
    "LpStatus[status]\n",
    "\n",
    "# print the results\n",
    "print(\"Pulp Solution for x1, x2\")\n",
    "print(value(x1))\n",
    "print(value(x2))\n",
    "#print(value(x3))"
   ]
  },
  {
   "cell_type": "code",
   "execution_count": 6,
   "metadata": {},
   "outputs": [
    {
     "name": "stdout",
     "output_type": "stream",
     "text": [
      "60 30 120\n",
      "The maximum revenue is $ 141000.0\n"
     ]
    }
   ],
   "source": [
    "from pulp import LpVariable, LpProblem, LpMaximize, LpStatus, value, LpMinimize\n",
    "\n",
    "# declare your variables\n",
    "p1 = LpVariable(\"p1\", 0, None) # x>=0\n",
    "p2 = LpVariable(\"p2\", 0, None) # y>=0\n",
    "p3 = LpVariable(\"p3\", 0, None)  \n",
    "\n",
    "# defines the problem\n",
    "prob = LpProblem(\"problem\", LpMaximize)\n",
    "\n",
    "# defines the constraints\n",
    "prob += p1 + p2 + p3 <= 210\n",
    "prob += p2 >= 30 \n",
    "prob += p1 >= 2*p2\n",
    "\n",
    "\n",
    "\n",
    "# defines the objective function to maximize\n",
    "prob += 250*p1 + 1200*p2 + 750*p3\n",
    "\n",
    "# solve the problem\n",
    "status = prob.solve()\n",
    "LpStatus[status]\n",
    "\n",
    "# print the results (integer values)\n",
    "print(int(value(p1)),int(value(p2)),int(value(p3)))\n",
    "print(\"The maximum revenue is $\",(250*value(p1)) + 1200*(value(p2)) + 750*(value(p3)))"
   ]
  },
  {
   "cell_type": "code",
   "execution_count": null,
   "metadata": {},
   "outputs": [],
   "source": []
  }
 ],
 "metadata": {
  "kernelspec": {
   "display_name": "Python 3",
   "language": "python",
   "name": "python3"
  },
  "language_info": {
   "codemirror_mode": {
    "name": "ipython",
    "version": 3
   },
   "file_extension": ".py",
   "mimetype": "text/x-python",
   "name": "python",
   "nbconvert_exporter": "python",
   "pygments_lexer": "ipython3",
   "version": "3.8.10"
  },
  "varInspector": {
   "cols": {
    "lenName": 16,
    "lenType": 16,
    "lenVar": 40
   },
   "kernels_config": {
    "python": {
     "delete_cmd_postfix": "",
     "delete_cmd_prefix": "del ",
     "library": "var_list.py",
     "varRefreshCmd": "print(var_dic_list())"
    },
    "r": {
     "delete_cmd_postfix": ") ",
     "delete_cmd_prefix": "rm(",
     "library": "var_list.r",
     "varRefreshCmd": "cat(var_dic_list()) "
    }
   },
   "types_to_exclude": [
    "module",
    "function",
    "builtin_function_or_method",
    "instance",
    "_Feature"
   ],
   "window_display": false
  }
 },
 "nbformat": 4,
 "nbformat_minor": 1
}
